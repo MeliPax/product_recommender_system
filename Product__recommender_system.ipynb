{
  "nbformat": 4,
  "nbformat_minor": 0,
  "metadata": {
    "colab": {
      "name": "New_Pax_Product _recommender-system.ipynb",
      "provenance": [],
      "collapsed_sections": []
    },
    "kernelspec": {
      "display_name": "Python 3",
      "language": "python",
      "name": "python3"
    },
    "language_info": {
      "codemirror_mode": {
        "name": "ipython",
        "version": 3
      },
      "file_extension": ".py",
      "mimetype": "text/x-python",
      "name": "python",
      "nbconvert_exporter": "python",
      "pygments_lexer": "ipython3",
      "version": "3.7.6"
    },
    "accelerator": "GPU"
  },
  "cells": [
    {
      "cell_type": "markdown",
      "metadata": {
        "id": "ybjApCej_7iO"
      },
      "source": [
        "# Book Recommender System With Keras "
      ]
    },
    {
      "cell_type": "code",
      "metadata": {
        "colab": {
          "base_uri": "https://localhost:8080/"
        },
        "id": "iRL1zoar4yO_",
        "outputId": "0ee81b9a-52c1-4433-a931-18b89bc7477b"
      },
      "source": [
        "from google.colab import drive\n",
        "drive.mount('/content/drive')"
      ],
      "execution_count": null,
      "outputs": [
        {
          "output_type": "stream",
          "text": [
            "Mounted at /content/drive\n"
          ],
          "name": "stdout"
        }
      ]
    },
    {
      "cell_type": "code",
      "metadata": {
        "id": "c18Nwota_7iV"
      },
      "source": [
        "import numpy as np \n",
        "import pandas as pd \n",
        "import matplotlib.pyplot as plt\n",
        "from sklearn.model_selection import train_test_split\n",
        "from sklearn.preprocessing import LabelEncoder\n",
        "import seaborn as sns #for visualisation"
      ],
      "execution_count": null,
      "outputs": []
    },
    {
      "cell_type": "code",
      "metadata": {
        "id": "JBSsFZWa5OKQ"
      },
      "source": [
        "import pandas as pd\n",
        "dataset = pd.read_csv(\"drive/My Drive/datasets/ratings_Beauty.csv\", encoding='latin1')\n",
        "# dataset = pd.read_csv('/content/drive/MyDrive/Colab Notebooks/ratings_Beauty.csv')"
      ],
      "execution_count": null,
      "outputs": []
    },
    {
      "cell_type": "code",
      "metadata": {
        "colab": {
          "base_uri": "https://localhost:8080/",
          "height": 212
        },
        "id": "fstPhojn_7iW",
        "outputId": "177f281d-0b7c-4b82-f299-fa51be3720a2"
      },
      "source": [
        "# dataset = pd.read_csv('https://raw.githubusercontent.com/sahilpocker/Book-Recommender-System/master/Dataset/ratings.csv')\n",
        " \n",
        "dataset.drop_duplicates(inplace=True) #Drop duplicate entries\n",
        " \n",
        "print('we have',dataset.shape[0], 'ratings')\n",
        "dataset.head()"
      ],
      "execution_count": null,
      "outputs": [
        {
          "output_type": "stream",
          "text": [
            "we have 2023070 ratings\n"
          ],
          "name": "stdout"
        },
        {
          "output_type": "execute_result",
          "data": {
            "text/html": [
              "<div>\n",
              "<style scoped>\n",
              "    .dataframe tbody tr th:only-of-type {\n",
              "        vertical-align: middle;\n",
              "    }\n",
              "\n",
              "    .dataframe tbody tr th {\n",
              "        vertical-align: top;\n",
              "    }\n",
              "\n",
              "    .dataframe thead th {\n",
              "        text-align: right;\n",
              "    }\n",
              "</style>\n",
              "<table border=\"1\" class=\"dataframe\">\n",
              "  <thead>\n",
              "    <tr style=\"text-align: right;\">\n",
              "      <th></th>\n",
              "      <th>UserId</th>\n",
              "      <th>ProductId</th>\n",
              "      <th>Rating</th>\n",
              "      <th>Timestamp</th>\n",
              "    </tr>\n",
              "  </thead>\n",
              "  <tbody>\n",
              "    <tr>\n",
              "      <th>0</th>\n",
              "      <td>A39HTATAQ9V7YF</td>\n",
              "      <td>0205616461</td>\n",
              "      <td>5.0</td>\n",
              "      <td>1369699200</td>\n",
              "    </tr>\n",
              "    <tr>\n",
              "      <th>1</th>\n",
              "      <td>A3JM6GV9MNOF9X</td>\n",
              "      <td>0558925278</td>\n",
              "      <td>3.0</td>\n",
              "      <td>1355443200</td>\n",
              "    </tr>\n",
              "    <tr>\n",
              "      <th>2</th>\n",
              "      <td>A1Z513UWSAAO0F</td>\n",
              "      <td>0558925278</td>\n",
              "      <td>5.0</td>\n",
              "      <td>1404691200</td>\n",
              "    </tr>\n",
              "    <tr>\n",
              "      <th>3</th>\n",
              "      <td>A1WMRR494NWEWV</td>\n",
              "      <td>0733001998</td>\n",
              "      <td>4.0</td>\n",
              "      <td>1382572800</td>\n",
              "    </tr>\n",
              "    <tr>\n",
              "      <th>4</th>\n",
              "      <td>A3IAAVS479H7M7</td>\n",
              "      <td>0737104473</td>\n",
              "      <td>1.0</td>\n",
              "      <td>1274227200</td>\n",
              "    </tr>\n",
              "  </tbody>\n",
              "</table>\n",
              "</div>"
            ],
            "text/plain": [
              "           UserId   ProductId  Rating   Timestamp\n",
              "0  A39HTATAQ9V7YF  0205616461     5.0  1369699200\n",
              "1  A3JM6GV9MNOF9X  0558925278     3.0  1355443200\n",
              "2  A1Z513UWSAAO0F  0558925278     5.0  1404691200\n",
              "3  A1WMRR494NWEWV  0733001998     4.0  1382572800\n",
              "4  A3IAAVS479H7M7  0737104473     1.0  1274227200"
            ]
          },
          "metadata": {
            "tags": []
          },
          "execution_count": 4
        }
      ]
    },
    {
      "cell_type": "code",
      "metadata": {
        "colab": {
          "base_uri": "https://localhost:8080/",
          "height": 339
        },
        "id": "I7jZko0YJWP4",
        "outputId": "0a71a972-089d-47cf-d105-44f8f3c1c434"
      },
      "source": [
        "plt.rc(\"font\", size=15)\n",
        "dataset.Rating.value_counts(sort=False).plot(kind='bar')\n",
        "plt.title('Rating Distribution\\n')\n",
        "plt.xlabel('Rating')\n",
        "plt.ylabel('Count')\n",
        "plt.savefig('system1.png', bbox_inches='tight')\n",
        "plt.show()"
      ],
      "execution_count": null,
      "outputs": [
        {
          "output_type": "display_data",
          "data": {
            "image/png": "[encoded data removed]",
            "text/plain": [
              "<Figure size 432x288 with 1 Axes>"
            ]
          },
          "metadata": {
            "tags": [],
            "needs_background": "light"
          }
        }
      ]
    },
    {
      "cell_type": "markdown",
      "metadata": {
        "id": "idQvVjgL_7iY"
      },
      "source": [
        "**Visualising the number of ratings per book: -**"
      ]
    },
    {
      "cell_type": "code",
      "metadata": {
        "colab": {
          "base_uri": "https://localhost:8080/",
          "height": 580
        },
        "id": "PwZjtlAf_7iZ",
        "outputId": "3f583691-a911-4a35-baef-ed685c6ddee2"
      },
      "source": [
        "no_of_ratings_per_book=dataset.groupby('ProductId').count()\n",
        "plt.figure(figsize=(16,8))\n",
        "sns.distplot(a=no_of_ratings_per_book['Rating'], color='b')"
      ],
      "execution_count": null,
      "outputs": [
        {
          "output_type": "stream",
          "text": [
            "/usr/local/lib/python3.7/dist-packages/seaborn/distributions.py:2557: FutureWarning: `distplot` is a deprecated function and will be removed in a future version. Please adapt your code to use either `displot` (a figure-level function with similar flexibility) or `histplot` (an axes-level function for histograms).\n",
            "  warnings.warn(msg, FutureWarning)\n"
          ],
          "name": "stderr"
        },
        {
          "output_type": "execute_result",
          "data": {
            "text/plain": [
              "<matplotlib.axes._subplots.AxesSubplot at 0x7f42dd509490>"
            ]
          },
          "metadata": {
            "tags": []
          },
          "execution_count": 6
        },
        {
          "output_type": "display_data",
          "data": {
            "image/png": "[encoded data removed]",
            "text/plain": [
              "<Figure size 1152x576 with 1 Axes>"
            ]
          },
          "metadata": {
            "tags": [],
            "needs_background": "light"
          }
        }
      ]
    },
    {
      "cell_type": "code",
      "metadata": {
        "id": "lb477enrLLYd"
      },
      "source": [
        "dataset= dataset.head(1000)"
      ],
      "execution_count": null,
      "outputs": []
    },
    {
      "cell_type": "markdown",
      "metadata": {
        "id": "qrGvEq0t_7ia"
      },
      "source": [
        "\n",
        "\n",
        "\n",
        "**The user_id and product_id in the dataset is currently non-sequential, it is required to convert them into sequential (starting from zero). Scikit-learn’s LabelEncoder class helps to transform the fields.**"
      ]
    },
    {
      "cell_type": "code",
      "metadata": {
        "colab": {
          "base_uri": "https://localhost:8080/",
          "height": 265
        },
        "id": "6fjKLPvr_7ia",
        "outputId": "14ef3a7c-6e89-43c7-c3a1-7fcba513d47d"
      },
      "source": [
        "#user\n",
        "user_enc = LabelEncoder()\n",
        "dataset['user'] = user_enc.fit_transform(dataset['UserId'].values)\n",
        "n_users = dataset['user'].nunique()\n",
        "\n",
        "#product\n",
        "item_enc = LabelEncoder()\n",
        "dataset['products'] = item_enc.fit_transform(dataset['ProductId'].values)\n",
        "n_products = dataset['products'].nunique()\n",
        "\n",
        "dataset['Rating'] = dataset['Rating'].values.astype(np.float32) \n",
        "\n",
        "min_rating = min(dataset['Rating'])\n",
        "max_rating = max(dataset['Rating'])\n",
        "\n",
        "print('the number of unique users we have is:', n_users)\n",
        "print('the number of unique books we have is:', n_products)\n",
        "print(\"The median user rated %d books.\"%dataset.UserId.value_counts().median())\n",
        "print('The max rating is: %d'%min_rating,\"the min rating is: %d\"%max_rating)\n",
        "dataset.tail()"
      ],
      "execution_count": null,
      "outputs": [
        {
          "output_type": "stream",
          "text": [
            "the number of unique users we have is: 948\n",
            "the number of unique books we have is: 261\n",
            "The median user rated 1 books.\n",
            "The max rating is: 1 the min rating is: 5\n"
          ],
          "name": "stdout"
        },
        {
          "output_type": "execute_result",
          "data": {
            "text/html": [
              "<div>\n",
              "<style scoped>\n",
              "    .dataframe tbody tr th:only-of-type {\n",
              "        vertical-align: middle;\n",
              "    }\n",
              "\n",
              "    .dataframe tbody tr th {\n",
              "        vertical-align: top;\n",
              "    }\n",
              "\n",
              "    .dataframe thead th {\n",
              "        text-align: right;\n",
              "    }\n",
              "</style>\n",
              "<table border=\"1\" class=\"dataframe\">\n",
              "  <thead>\n",
              "    <tr style=\"text-align: right;\">\n",
              "      <th></th>\n",
              "      <th>UserId</th>\n",
              "      <th>ProductId</th>\n",
              "      <th>Rating</th>\n",
              "      <th>Timestamp</th>\n",
              "      <th>user</th>\n",
              "      <th>products</th>\n",
              "    </tr>\n",
              "  </thead>\n",
              "  <tbody>\n",
              "    <tr>\n",
              "      <th>995</th>\n",
              "      <td>A3317L1113QN7O</td>\n",
              "      <td>978807894X</td>\n",
              "      <td>5.0</td>\n",
              "      <td>1387843200</td>\n",
              "      <td>529</td>\n",
              "      <td>260</td>\n",
              "    </tr>\n",
              "    <tr>\n",
              "      <th>996</th>\n",
              "      <td>A3ABTLXPQP73TB</td>\n",
              "      <td>978807894X</td>\n",
              "      <td>3.0</td>\n",
              "      <td>1273276800</td>\n",
              "      <td>580</td>\n",
              "      <td>260</td>\n",
              "    </tr>\n",
              "    <tr>\n",
              "      <th>997</th>\n",
              "      <td>A2P2FTA24RAFBA</td>\n",
              "      <td>978807894X</td>\n",
              "      <td>5.0</td>\n",
              "      <td>1395014400</td>\n",
              "      <td>438</td>\n",
              "      <td>260</td>\n",
              "    </tr>\n",
              "    <tr>\n",
              "      <th>998</th>\n",
              "      <td>A2CB2CNAOCG97W</td>\n",
              "      <td>978807894X</td>\n",
              "      <td>5.0</td>\n",
              "      <td>1395014400</td>\n",
              "      <td>346</td>\n",
              "      <td>260</td>\n",
              "    </tr>\n",
              "    <tr>\n",
              "      <th>999</th>\n",
              "      <td>A29WP9HRKLQS0D</td>\n",
              "      <td>978807894X</td>\n",
              "      <td>5.0</td>\n",
              "      <td>1295740800</td>\n",
              "      <td>332</td>\n",
              "      <td>260</td>\n",
              "    </tr>\n",
              "  </tbody>\n",
              "</table>\n",
              "</div>"
            ],
            "text/plain": [
              "             UserId   ProductId  Rating   Timestamp  user  products\n",
              "995  A3317L1113QN7O  978807894X     5.0  1387843200   529       260\n",
              "996  A3ABTLXPQP73TB  978807894X     3.0  1273276800   580       260\n",
              "997  A2P2FTA24RAFBA  978807894X     5.0  1395014400   438       260\n",
              "998  A2CB2CNAOCG97W  978807894X     5.0  1395014400   346       260\n",
              "999  A29WP9HRKLQS0D  978807894X     5.0  1295740800   332       260"
            ]
          },
          "metadata": {
            "tags": []
          },
          "execution_count": 8
        }
      ]
    },
    {
      "cell_type": "markdown",
      "metadata": {
        "id": "L5-JsZs6_7ib"
      },
      "source": [
        "**Split into training and test sets, with an 80-20 split.**"
      ]
    },
    {
      "cell_type": "code",
      "metadata": {
        "colab": {
          "base_uri": "https://localhost:8080/"
        },
        "id": "R4fp0GvC_7ib",
        "outputId": "3abe280b-ad68-4f2d-f74f-cbd19bd6ec7e"
      },
      "source": [
        "# Spliting the data into train and test\n",
        "X = dataset[['user', 'products']].values\n",
        "y = dataset['Rating'].values\n",
        "X_train, X_test, y_train, y_test = train_test_split(X, y, test_size=0.2, random_state=42)\n",
        "X_train.shape, X_test.shape, y_train.shape, y_test.shape"
      ],
      "execution_count": null,
      "outputs": [
        {
          "output_type": "execute_result",
          "data": {
            "text/plain": [
              "((800, 2), (200, 2), (800,), (200,))"
            ]
          },
          "metadata": {
            "tags": []
          },
          "execution_count": 9
        }
      ]
    },
    {
      "cell_type": "code",
      "metadata": {
        "id": "pzn122aS_7ic"
      },
      "source": [
        "# Created arrays from our x_train values to be passed into the model\n",
        "n_factors = 20 #No of factors per user/book (A hyperparameter)\n",
        "X_train_array = [X_train[:, 0], X_train[:, 1]]\n",
        "X_test_array = [X_test[:, 0], X_test[:, 1]]"
      ],
      "execution_count": null,
      "outputs": []
    },
    {
      "cell_type": "markdown",
      "metadata": {
        "id": "SDK1JMog_7ic"
      },
      "source": [
        "**Define the model.**"
      ]
    },
    {
      "cell_type": "code",
      "metadata": {
        "id": "Vg5IkylJ_7ic"
      },
      "source": [
        "from keras.models import Model\n",
        "from keras.layers import Input, Reshape, Dot\n",
        "from keras.layers.embeddings import Embedding\n",
        "from keras.optimizers import Adam\n",
        "from keras.regularizers import l2\n",
        "\n",
        "\n",
        "def RecommenderNet(n_users, n_products, n_factors):\n",
        "    user = Input(shape=(1,)) \n",
        "    u = Embedding(n_users, n_factors, embeddings_initializer='he_normal',\n",
        "                  embeddings_regularizer=l2(1e-6))(user)\n",
        "    u = Reshape((n_factors,))(u)\n",
        "    \n",
        "    prods = Input(shape=(1,))\n",
        "    m = Embedding(n_users, n_factors, embeddings_initializer='he_normal',\n",
        "                  embeddings_regularizer=l2(1e-6))(prods)\n",
        "    m = Reshape((n_factors,))(m)\n",
        "\n",
        "    x = Dot(axes=1)([u, m])\n",
        "    model = Model(inputs=[user, prods], outputs=x)\n",
        "    opt = Adam(lr=0.001)\n",
        "    model.compile(loss='mean_squared_error', optimizer=opt)\n",
        "    return model"
      ],
      "execution_count": null,
      "outputs": []
    },
    {
      "cell_type": "code",
      "metadata": {
        "colab": {
          "base_uri": "https://localhost:8080/"
        },
        "id": "MmA8zdbk_7id",
        "outputId": "27b26ef1-6d29-4709-8b29-eec59d6e9bfb"
      },
      "source": [
        "model = RecommenderNet(n_users, n_products, n_factors)\n",
        "model.summary()"
      ],
      "execution_count": null,
      "outputs": [
        {
          "output_type": "stream",
          "text": [
            "Model: \"model\"\n",
            "__________________________________________________________________________________________________\n",
            "Layer (type)                    Output Shape         Param #     Connected to                     \n",
            "==================================================================================================\n",
            "input_1 (InputLayer)            [(None, 1)]          0                                            \n",
            "__________________________________________________________________________________________________\n",
            "input_2 (InputLayer)            [(None, 1)]          0                                            \n",
            "__________________________________________________________________________________________________\n",
            "embedding (Embedding)           (None, 1, 20)        18960       input_1[0][0]                    \n",
            "__________________________________________________________________________________________________\n",
            "embedding_1 (Embedding)         (None, 1, 20)        18960       input_2[0][0]                    \n",
            "__________________________________________________________________________________________________\n",
            "reshape (Reshape)               (None, 20)           0           embedding[0][0]                  \n",
            "__________________________________________________________________________________________________\n",
            "reshape_1 (Reshape)             (None, 20)           0           embedding_1[0][0]                \n",
            "__________________________________________________________________________________________________\n",
            "dot (Dot)                       (None, 1)            0           reshape[0][0]                    \n",
            "                                                                 reshape_1[0][0]                  \n",
            "==================================================================================================\n",
            "Total params: 37,920\n",
            "Trainable params: 37,920\n",
            "Non-trainable params: 0\n",
            "__________________________________________________________________________________________________\n"
          ],
          "name": "stdout"
        }
      ]
    },
    {
      "cell_type": "code",
      "metadata": {
        "colab": {
          "base_uri": "https://localhost:8080/"
        },
        "id": "w1IVhkPn_7id",
        "outputId": "798ce29b-2433-4b12-a7fe-7de2f09b2c40"
      },
      "source": [
        "history = model.fit(x=X_train_array, y=y_train, batch_size=64, epochs=5,\n",
        "                    verbose=1, validation_data=(X_test_array, y_test))"
      ],
      "execution_count": null,
      "outputs": [
        {
          "output_type": "stream",
          "text": [
            "Epoch 1/5\n",
            "13/13 [==============================] - 4s 46ms/step - loss: 19.2628 - val_loss: 18.0257\n",
            "Epoch 2/5\n",
            "13/13 [==============================] - 0s 6ms/step - loss: 18.7408 - val_loss: 18.0252\n",
            "Epoch 3/5\n",
            "13/13 [==============================] - 0s 5ms/step - loss: 18.8927 - val_loss: 18.0249\n",
            "Epoch 4/5\n",
            "13/13 [==============================] - 0s 6ms/step - loss: 18.8489 - val_loss: 18.0249\n",
            "Epoch 5/5\n",
            "13/13 [==============================] - 0s 6ms/step - loss: 18.9246 - val_loss: 18.0248\n"
          ],
          "name": "stdout"
        }
      ]
    },
    {
      "cell_type": "markdown",
      "metadata": {
        "id": "OKs8VzVI_7ie"
      },
      "source": [
        "**Taking a look at the model perfomance, it has performed decently well. More epochs would only cause the model to overfit.**"
      ]
    },
    {
      "cell_type": "code",
      "metadata": {
        "id": "yySfu1ww_7ie",
        "colab": {
          "base_uri": "https://localhost:8080/",
          "height": 290
        },
        "outputId": "7a5880e0-ca9e-47d6-8ec5-d168298d03ad"
      },
      "source": [
        "train_loss = history.history['loss']\n",
        "val_loss = history.history['val_loss']\n",
        "plt.plot(train_loss, color='r', label='Train Loss')\n",
        "plt.plot(val_loss, color='b', label='Validation Loss')\n",
        "plt.title(\"Train and Validation Loss Curve\")\n",
        "plt.legend()\n",
        "plt.show()"
      ],
      "execution_count": null,
      "outputs": [
        {
          "output_type": "display_data",
          "data": {
            "image/png": "[encoded data removed]",
            "text/plain": [
              "<Figure size 432x288 with 1 Axes>"
            ]
          },
          "metadata": {
            "tags": [],
            "needs_background": "light"
          }
        }
      ]
    },
    {
      "cell_type": "code",
      "metadata": {
        "id": "2EC61r_g6dew"
      },
      "source": [
        "import tensorflow as tf\n",
        "from tensorflow import keras\n",
        "import pickle "
      ],
      "execution_count": null,
      "outputs": []
    },
    {
      "cell_type": "code",
      "metadata": {
        "id": "wHHMVT8Q6rth"
      },
      "source": [
        "model.save('my_model.h5')"
      ],
      "execution_count": null,
      "outputs": []
    },
    {
      "cell_type": "markdown",
      "metadata": {
        "id": "R8VV0Kr1_7ih"
      },
      "source": [
        "# Making Recommendations"
      ]
    },
    {
      "cell_type": "code",
      "metadata": {
        "id": "1-qT7t56EZVC"
      },
      "source": [
        "dataset.to_csv('product.csv')"
      ],
      "execution_count": null,
      "outputs": []
    },
    {
      "cell_type": "markdown",
      "metadata": {
        "id": "Gk10dsSD_7ih"
      },
      "source": [
        "**We can use the model to predict the top 10 recommendations for a user**"
      ]
    },
    {
      "cell_type": "code",
      "metadata": {
        "colab": {
          "base_uri": "https://localhost:8080/",
          "height": 194
        },
        "id": "gPuEQJHoqQ78",
        "outputId": "feff5391-ec1b-43ae-e371-2a6c5d7c9eb8"
      },
      "source": [
        "dataset.head()"
      ],
      "execution_count": null,
      "outputs": [
        {
          "output_type": "execute_result",
          "data": {
            "text/html": [
              "<div>\n",
              "<style scoped>\n",
              "    .dataframe tbody tr th:only-of-type {\n",
              "        vertical-align: middle;\n",
              "    }\n",
              "\n",
              "    .dataframe tbody tr th {\n",
              "        vertical-align: top;\n",
              "    }\n",
              "\n",
              "    .dataframe thead th {\n",
              "        text-align: right;\n",
              "    }\n",
              "</style>\n",
              "<table border=\"1\" class=\"dataframe\">\n",
              "  <thead>\n",
              "    <tr style=\"text-align: right;\">\n",
              "      <th></th>\n",
              "      <th>UserId</th>\n",
              "      <th>ProductId</th>\n",
              "      <th>Rating</th>\n",
              "      <th>Timestamp</th>\n",
              "      <th>user</th>\n",
              "      <th>products</th>\n",
              "    </tr>\n",
              "  </thead>\n",
              "  <tbody>\n",
              "    <tr>\n",
              "      <th>0</th>\n",
              "      <td>A39HTATAQ9V7YF</td>\n",
              "      <td>0205616461</td>\n",
              "      <td>5.0</td>\n",
              "      <td>1369699200</td>\n",
              "      <td>570</td>\n",
              "      <td>0</td>\n",
              "    </tr>\n",
              "    <tr>\n",
              "      <th>1</th>\n",
              "      <td>A3JM6GV9MNOF9X</td>\n",
              "      <td>0558925278</td>\n",
              "      <td>3.0</td>\n",
              "      <td>1355443200</td>\n",
              "      <td>647</td>\n",
              "      <td>1</td>\n",
              "    </tr>\n",
              "    <tr>\n",
              "      <th>2</th>\n",
              "      <td>A1Z513UWSAAO0F</td>\n",
              "      <td>0558925278</td>\n",
              "      <td>5.0</td>\n",
              "      <td>1404691200</td>\n",
              "      <td>250</td>\n",
              "      <td>1</td>\n",
              "    </tr>\n",
              "    <tr>\n",
              "      <th>3</th>\n",
              "      <td>A1WMRR494NWEWV</td>\n",
              "      <td>0733001998</td>\n",
              "      <td>4.0</td>\n",
              "      <td>1382572800</td>\n",
              "      <td>235</td>\n",
              "      <td>2</td>\n",
              "    </tr>\n",
              "    <tr>\n",
              "      <th>4</th>\n",
              "      <td>A3IAAVS479H7M7</td>\n",
              "      <td>0737104473</td>\n",
              "      <td>1.0</td>\n",
              "      <td>1274227200</td>\n",
              "      <td>643</td>\n",
              "      <td>3</td>\n",
              "    </tr>\n",
              "  </tbody>\n",
              "</table>\n",
              "</div>"
            ],
            "text/plain": [
              "           UserId   ProductId  Rating   Timestamp  user  products\n",
              "0  A39HTATAQ9V7YF  0205616461     5.0  1369699200   570         0\n",
              "1  A3JM6GV9MNOF9X  0558925278     3.0  1355443200   647         1\n",
              "2  A1Z513UWSAAO0F  0558925278     5.0  1404691200   250         1\n",
              "3  A1WMRR494NWEWV  0733001998     4.0  1382572800   235         2\n",
              "4  A3IAAVS479H7M7  0737104473     1.0  1274227200   643         3"
            ]
          },
          "metadata": {
            "tags": []
          },
          "execution_count": 18
        }
      ]
    },
    {
      "cell_type": "code",
      "metadata": {
        "id": "ofnbJto9t7gL"
      },
      "source": [
        "#Making recommendations for user\n",
        "def recommend(user_ID):\n",
        "  user_r =user_ID\n",
        "  prod_id =list(dataset.products.unique())\n",
        "  prod_arr = np.array(prod_id)\n",
        "  user = np.array([user_r for i in range(len(prod_id))])\n",
        "  pred = model.predict([prod_arr, user])\n",
        "  # pred\n",
        "\n",
        "  pred = pred.reshape(-1) #reshape to single dimension\n",
        "  pred_ids = (-pred).argsort()[0:10]\n",
        "  \n",
        "  # pred_ids\n",
        "  top10 = dataset.iloc[pred_ids]\n",
        "  f=['ProductId']\n",
        "  displ=(top10[f])\n",
        "  print(displ)"
      ],
      "execution_count": null,
      "outputs": []
    },
    {
      "cell_type": "code",
      "metadata": {
        "colab": {
          "base_uri": "https://localhost:8080/"
        },
        "id": "mWsojjrfuxN8",
        "outputId": "34fb2eab-9b88-4a05-d648-dba790a87bbd"
      },
      "source": [
        "recommend(500)"
      ],
      "execution_count": null,
      "outputs": [
        {
          "output_type": "stream",
          "text": [
            "      ProductId\n",
            "213  5357955867\n",
            "209  5357955786\n",
            "37   1304351475\n",
            "5    0762451459\n",
            "177  4057368825\n",
            "18   1304174867\n",
            "95   130465110X\n",
            "41   1304351475\n",
            "94   1304651088\n",
            "58   1304511081\n"
          ],
          "name": "stdout"
        }
      ]
    },
    {
      "cell_type": "code",
      "metadata": {
        "id": "Pn90puG_DT3w",
        "colab": {
          "base_uri": "https://localhost:8080/"
        },
        "outputId": "1f34d206-250a-410a-9c0f-6067a2f63424"
      },
      "source": [
        "!wget https://bin.equinox.io/c/4VmDzA7iaHb/ngrok-stable-linux-amd64.zip"
      ],
      "execution_count": null,
      "outputs": [
        {
          "output_type": "stream",
          "text": [
            "--2021-04-10 22:13:04--  https://bin.equinox.io/c/4VmDzA7iaHb/ngrok-stable-linux-amd64.zip\n",
            "Resolving bin.equinox.io (bin.equinox.io)... 34.202.136.204, 34.207.48.100, 3.216.86.20, ...\n",
            "Connecting to bin.equinox.io (bin.equinox.io)|34.202.136.204|:443... connected.\n",
            "HTTP request sent, awaiting response... 200 OK\n",
            "Length: 14746350 (14M) [application/octet-stream]\n",
            "Saving to: ‘ngrok-stable-linux-amd64.zip’\n",
            "\n",
            "ngrok-stable-linux- 100%[===================>]  14.06M  59.5MB/s    in 0.2s    \n",
            "\n",
            "2021-04-10 22:13:04 (59.5 MB/s) - ‘ngrok-stable-linux-amd64.zip’ saved [14746350/14746350]\n",
            "\n"
          ],
          "name": "stdout"
        }
      ]
    },
    {
      "cell_type": "code",
      "metadata": {
        "id": "WVmbFXduDT76",
        "colab": {
          "base_uri": "https://localhost:8080/"
        },
        "outputId": "cc7ba1b7-1f25-477a-b0af-4f5312518b55"
      },
      "source": [
        "!unzip ngrok-stable-linux-amd64.zip"
      ],
      "execution_count": null,
      "outputs": [
        {
          "output_type": "stream",
          "text": [
            "Archive:  ngrok-stable-linux-amd64.zip\n",
            "  inflating: ngrok                   \n"
          ],
          "name": "stdout"
        }
      ]
    },
    {
      "cell_type": "code",
      "metadata": {
        "id": "g0ZxivgzDT_R",
        "colab": {
          "base_uri": "https://localhost:8080/"
        },
        "outputId": "c529578c-571a-493e-a150-1931689aa6bb"
      },
      "source": [
        "!pip install -q pyngrok\n",
        "!pip install -q streamlit\n",
        "!pip install -q streamlit_ace"
      ],
      "execution_count": null,
      "outputs": [
        {
          "output_type": "stream",
          "text": [
            "\u001b[?25l\r\u001b[K     |▍                               | 10kB 24.0MB/s eta 0:00:01\r\u001b[K     |▉                               | 20kB 31.7MB/s eta 0:00:01\r\u001b[K     |█▎                              | 30kB 36.5MB/s eta 0:00:01\r\u001b[K     |█▊                              | 40kB 38.0MB/s eta 0:00:01\r\u001b[K     |██▏                             | 51kB 35.8MB/s eta 0:00:01\r\u001b[K     |██▋                             | 61kB 38.0MB/s eta 0:00:01\r\u001b[K     |███                             | 71kB 25.3MB/s eta 0:00:01\r\u001b[K     |███▌                            | 81kB 23.5MB/s eta 0:00:01\r\u001b[K     |████                            | 92kB 25.1MB/s eta 0:00:01\r\u001b[K     |████▍                           | 102kB 23.5MB/s eta 0:00:01\r\u001b[K     |████▉                           | 112kB 23.5MB/s eta 0:00:01\r\u001b[K     |█████▎                          | 122kB 23.5MB/s eta 0:00:01\r\u001b[K     |█████▊                          | 133kB 23.5MB/s eta 0:00:01\r\u001b[K     |██████▏                         | 143kB 23.5MB/s eta 0:00:01\r\u001b[K     |██████▋                         | 153kB 23.5MB/s eta 0:00:01\r\u001b[K     |███████                         | 163kB 23.5MB/s eta 0:00:01\r\u001b[K     |███████▌                        | 174kB 23.5MB/s eta 0:00:01\r\u001b[K     |████████                        | 184kB 23.5MB/s eta 0:00:01\r\u001b[K     |████████▍                       | 194kB 23.5MB/s eta 0:00:01\r\u001b[K     |████████▉                       | 204kB 23.5MB/s eta 0:00:01\r\u001b[K     |█████████▎                      | 215kB 23.5MB/s eta 0:00:01\r\u001b[K     |█████████▊                      | 225kB 23.5MB/s eta 0:00:01\r\u001b[K     |██████████▏                     | 235kB 23.5MB/s eta 0:00:01\r\u001b[K     |██████████▌                     | 245kB 23.5MB/s eta 0:00:01\r\u001b[K     |███████████                     | 256kB 23.5MB/s eta 0:00:01\r\u001b[K     |███████████▍                    | 266kB 23.5MB/s eta 0:00:01\r\u001b[K     |███████████▉                    | 276kB 23.5MB/s eta 0:00:01\r\u001b[K     |████████████▎                   | 286kB 23.5MB/s eta 0:00:01\r\u001b[K     |████████████▊                   | 296kB 23.5MB/s eta 0:00:01\r\u001b[K     |█████████████▏                  | 307kB 23.5MB/s eta 0:00:01\r\u001b[K     |█████████████▋                  | 317kB 23.5MB/s eta 0:00:01\r\u001b[K     |██████████████                  | 327kB 23.5MB/s eta 0:00:01\r\u001b[K     |██████████████▌                 | 337kB 23.5MB/s eta 0:00:01\r\u001b[K     |███████████████                 | 348kB 23.5MB/s eta 0:00:01\r\u001b[K     |███████████████▍                | 358kB 23.5MB/s eta 0:00:01\r\u001b[K     |███████████████▉                | 368kB 23.5MB/s eta 0:00:01\r\u001b[K     |████████████████▎               | 378kB 23.5MB/s eta 0:00:01\r\u001b[K     |████████████████▊               | 389kB 23.5MB/s eta 0:00:01\r\u001b[K     |█████████████████▏              | 399kB 23.5MB/s eta 0:00:01\r\u001b[K     |█████████████████▋              | 409kB 23.5MB/s eta 0:00:01\r\u001b[K     |██████████████████              | 419kB 23.5MB/s eta 0:00:01\r\u001b[K     |██████████████████▌             | 430kB 23.5MB/s eta 0:00:01\r\u001b[K     |███████████████████             | 440kB 23.5MB/s eta 0:00:01\r\u001b[K     |███████████████████▍            | 450kB 23.5MB/s eta 0:00:01\r\u001b[K     |███████████████████▉            | 460kB 23.5MB/s eta 0:00:01\r\u001b[K     |████████████████████▎           | 471kB 23.5MB/s eta 0:00:01\r\u001b[K     |████████████████████▊           | 481kB 23.5MB/s eta 0:00:01\r\u001b[K     |█████████████████████           | 491kB 23.5MB/s eta 0:00:01\r\u001b[K     |█████████████████████▌          | 501kB 23.5MB/s eta 0:00:01\r\u001b[K     |██████████████████████          | 512kB 23.5MB/s eta 0:00:01\r\u001b[K     |██████████████████████▍         | 522kB 23.5MB/s eta 0:00:01\r\u001b[K     |██████████████████████▉         | 532kB 23.5MB/s eta 0:00:01\r\u001b[K     |███████████████████████▎        | 542kB 23.5MB/s eta 0:00:01\r\u001b[K     |███████████████████████▊        | 552kB 23.5MB/s eta 0:00:01\r\u001b[K     |████████████████████████▏       | 563kB 23.5MB/s eta 0:00:01\r\u001b[K     |████████████████████████▋       | 573kB 23.5MB/s eta 0:00:01\r\u001b[K     |█████████████████████████       | 583kB 23.5MB/s eta 0:00:01\r\u001b[K     |█████████████████████████▌      | 593kB 23.5MB/s eta 0:00:01\r\u001b[K     |██████████████████████████      | 604kB 23.5MB/s eta 0:00:01\r\u001b[K     |██████████████████████████▍     | 614kB 23.5MB/s eta 0:00:01\r\u001b[K     |██████████████████████████▉     | 624kB 23.5MB/s eta 0:00:01\r\u001b[K     |███████████████████████████▎    | 634kB 23.5MB/s eta 0:00:01\r\u001b[K     |███████████████████████████▊    | 645kB 23.5MB/s eta 0:00:01\r\u001b[K     |████████████████████████████▏   | 655kB 23.5MB/s eta 0:00:01\r\u001b[K     |████████████████████████████▋   | 665kB 23.5MB/s eta 0:00:01\r\u001b[K     |█████████████████████████████   | 675kB 23.5MB/s eta 0:00:01\r\u001b[K     |█████████████████████████████▌  | 686kB 23.5MB/s eta 0:00:01\r\u001b[K     |██████████████████████████████  | 696kB 23.5MB/s eta 0:00:01\r\u001b[K     |██████████████████████████████▍ | 706kB 23.5MB/s eta 0:00:01\r\u001b[K     |██████████████████████████████▉ | 716kB 23.5MB/s eta 0:00:01\r\u001b[K     |███████████████████████████████▏| 727kB 23.5MB/s eta 0:00:01\r\u001b[K     |███████████████████████████████▋| 737kB 23.5MB/s eta 0:00:01\r\u001b[K     |████████████████████████████████| 747kB 23.5MB/s \n",
            "\u001b[?25h  Building wheel for pyngrok (setup.py) ... \u001b[?25l\u001b[?25hdone\n",
            "\u001b[K     |████████████████████████████████| 8.2MB 12.2MB/s \n",
            "\u001b[K     |████████████████████████████████| 112kB 61.9MB/s \n",
            "\u001b[K     |████████████████████████████████| 4.6MB 48.3MB/s \n",
            "\u001b[K     |████████████████████████████████| 163kB 61.2MB/s \n",
            "\u001b[K     |████████████████████████████████| 81kB 11.1MB/s \n",
            "\u001b[K     |████████████████████████████████| 122kB 59.4MB/s \n",
            "\u001b[K     |████████████████████████████████| 71kB 9.5MB/s \n",
            "\u001b[?25h  Building wheel for blinker (setup.py) ... \u001b[?25l\u001b[?25hdone\n",
            "\u001b[31mERROR: google-colab 1.0.0 has requirement ipykernel~=4.10, but you'll have ipykernel 5.5.3 which is incompatible.\u001b[0m\n",
            "\u001b[K     |████████████████████████████████| 3.9MB 19.7MB/s \n",
            "\u001b[?25h"
          ],
          "name": "stdout"
        }
      ]
    },
    {
      "cell_type": "code",
      "metadata": {
        "id": "ljcRaLVYDUCC"
      },
      "source": [
        "get_ipython().system_raw('./ngrok http 8501 &')"
      ],
      "execution_count": null,
      "outputs": []
    },
    {
      "cell_type": "code",
      "metadata": {
        "id": "GEd9iL8ODUFc",
        "colab": {
          "base_uri": "https://localhost:8080/"
        },
        "outputId": "73761ae7-6b46-4f07-bb40-23c9492684aa"
      },
      "source": [
        "!curl -s http://localhost:4040/api/tunnels | python3 -c \\\n",
        "    'import sys, json; print(\"Execute the next cell and the go to the following URL: \" +json.load(sys.stdin)[\"tunnels\"][0][\"public_url\"])'"
      ],
      "execution_count": null,
      "outputs": [
        {
          "output_type": "stream",
          "text": [
            "Execute the next cell and the go to the following URL: http://b654c0050482.ngrok.io\n"
          ],
          "name": "stdout"
        }
      ]
    },
    {
      "cell_type": "code",
      "metadata": {
        "id": "vJv9SvT3DUIq",
        "colab": {
          "base_uri": "https://localhost:8080/"
        },
        "outputId": "dfe5412e-8087-4b77-c2cb-7f18ddb28022"
      },
      "source": [
        "%%writefile app.py \n",
        "import pickle\n",
        "import streamlit as st\n",
        "from sklearn.cluster import KMeans\n",
        "import pandas as pd\n",
        "import numpy as np\n",
        "import os\n",
        "import tensorflow as tf\n",
        "from tensorflow import keras\n",
        "\n",
        "model = tf.keras.models.load_model('my_model.h5')\n",
        "# front end elements of the web page \n",
        "html_temp = \"\"\" \n",
        "<div style =\"background-color:yellow;padding:13px\"> \n",
        "<h1 style =\"color:black;text-align:center;\">Streamlit Loan Prediction ML App</h1> \n",
        "</div> \n",
        "\"\"\" \n",
        "st.markdown(html_temp, unsafe_allow_html = True) \n",
        "default_value_goes_here = \"\"\n",
        "user_r = st.text_input(\"label goes here\", default_value_goes_here)\n",
        "dataset= pd.read_csv('https://raw.githubusercontent.com/Diane10/movies/main/product.csv')\n",
        "if st.button(\"Predict\"): \n",
        "  b_id =list(dataset.book.unique())\n",
        "  book_arr = np.array(b_id)\n",
        "  user_r=int(user_r)\n",
        "  user = np.array([user_r for i in range(len(b_id))])\n",
        "  pred = model.predict([book_arr, user])\n",
        "  pred = pred.reshape(-1)\n",
        "  pred_ids = (-pred).argsort()[0:10]\n",
        "  top10 = dataset.iloc[pred_ids]\n",
        "  f=['ProductId']\n",
        "  displ=(top10[f])\n",
        "  st.write(displ)"
      ],
      "execution_count": null,
      "outputs": [
        {
          "output_type": "stream",
          "text": [
            "Writing app.py\n"
          ],
          "name": "stdout"
        }
      ]
    },
    {
      "cell_type": "code",
      "metadata": {
        "id": "HJE--6diDpun"
      },
      "source": [
        "!streamlit run app.py &>/dev/null&"
      ],
      "execution_count": null,
      "outputs": []
    },
    {
      "cell_type": "code",
      "metadata": {
        "id": "KoIxQu_ZDp5E",
        "colab": {
          "base_uri": "https://localhost:8080/"
        },
        "outputId": "b7ebae25-1921-4393-91b9-cf41f31f07bd"
      },
      "source": [
        "from pyngrok import ngrok\n",
        "public_url = ngrok.connect('8501')\n",
        "public_url"
      ],
      "execution_count": null,
      "outputs": [
        {
          "output_type": "stream",
          "text": [
            ""
          ],
          "name": "stdout"
        },
        {
          "output_type": "stream",
          "text": [
            "t=2021-04-10T22:14:23+0000 lvl=warn msg=\"can't bind default web address, trying alternatives\" obj=web addr=127.0.0.1:4040\n"
          ],
          "name": "stderr"
        },
        {
          "output_type": "execute_result",
          "data": {
            "text/plain": [
              "<NgrokTunnel: \"http://d289346df062.ngrok.io\" -> \"http://localhost:8501\">"
            ]
          },
          "metadata": {
            "tags": []
          },
          "execution_count": 34
        }
      ]
    },
    {
      "cell_type": "markdown",
      "metadata": {
        "id": "6x9A5U-4-852"
      },
      "source": [
        "Part2"
      ]
    },
    {
      "cell_type": "code",
      "metadata": {
        "id": "1YkyOW6i-wL7"
      },
      "source": [
        "import pandas as pd\n",
        "product_descriptions = pd.read_csv('/content/drive/MyDrive/Colab Notebooks/product_descriptions.csv')\n",
        "product_descriptions.head()"
      ],
      "execution_count": null,
      "outputs": []
    },
    {
      "cell_type": "code",
      "metadata": {
        "id": "cxVXSR07BE8T"
      },
      "source": [
        "# Importing libraries\n",
        "from sklearn.feature_extraction.text import TfidfVectorizer, CountVectorizer\n",
        "from sklearn.neighbors import NearestNeighbors\n",
        "from sklearn.cluster import KMeans\n",
        "from sklearn.metrics import adjusted_rand_score"
      ],
      "execution_count": null,
      "outputs": []
    },
    {
      "cell_type": "code",
      "metadata": {
        "id": "6kU5DxezBdiP"
      },
      "source": [
        "product_descriptions = product_descriptions.dropna()\n",
        "product_descriptions.shape\n",
        "product_descriptions.head()"
      ],
      "execution_count": null,
      "outputs": []
    },
    {
      "cell_type": "code",
      "metadata": {
        "id": "3_prIwZfBpvR"
      },
      "source": [
        "product_descriptions1 = product_descriptions.head(500)\n",
        "# product_descriptions1.iloc[:,1]\n",
        "\n",
        "product_descriptions1[\"product_description\"].head(10)"
      ],
      "execution_count": null,
      "outputs": []
    },
    {
      "cell_type": "code",
      "metadata": {
        "id": "wlCTgM0EBwKO"
      },
      "source": [
        "vectorizer = TfidfVectorizer(stop_words='english')\n",
        "X1 = vectorizer.fit_transform(product_descriptions1[\"product_description\"])\n",
        "X1"
      ],
      "execution_count": null,
      "outputs": []
    },
    {
      "cell_type": "code",
      "metadata": {
        "id": "GpwEtW_HB0ok"
      },
      "source": [
        "# Fitting K-Means to the dataset\n",
        "X=X1\n",
        "kmeans = KMeans(n_clusters = 10, init = 'k-means++')\n",
        "y_kmeans = kmeans.fit_predict(X)\n",
        "plt.plot(y_kmeans, \".\")\n",
        "plt.show()"
      ],
      "execution_count": null,
      "outputs": []
    },
    {
      "cell_type": "code",
      "metadata": {
        "id": "zlHx-nbnB4Wl"
      },
      "source": [
        "def print_cluster(i):\n",
        "    print(\"Cluster %d:\" % i),\n",
        "    for ind in order_centroids[i, :10]:\n",
        "        print(' %s' % terms[ind]),\n",
        "    print"
      ],
      "execution_count": null,
      "outputs": []
    },
    {
      "cell_type": "code",
      "metadata": {
        "id": "C0KTE3VmB9U7"
      },
      "source": [
        "true_k = 10\n",
        "\n",
        "model = KMeans(n_clusters=true_k, init='k-means++', max_iter=100, n_init=1)\n",
        "model.fit(X1)\n",
        "\n",
        "print(\"Top terms per cluster:\")\n",
        "order_centroids = model.cluster_centers_.argsort()[:, ::-1]\n",
        "terms = vectorizer.get_feature_names()\n",
        "for i in range(true_k):\n",
        "    print_cluster(i)"
      ],
      "execution_count": null,
      "outputs": []
    },
    {
      "cell_type": "code",
      "metadata": {
        "id": "pQjpBDNRCCG6"
      },
      "source": [
        "def show_recommendations(product):\n",
        "    #print(\"Cluster ID:\")\n",
        "    Y = vectorizer.transform([product])\n",
        "    prediction = model.predict(Y)\n",
        "    #print(prediction)\n",
        "    print_cluster(prediction[0])"
      ],
      "execution_count": null,
      "outputs": []
    },
    {
      "cell_type": "code",
      "metadata": {
        "id": "HjgHQ-7SCNFy"
      },
      "source": [
        "show_recommendations(\"cutting tool\")"
      ],
      "execution_count": null,
      "outputs": []
    },
    {
      "cell_type": "code",
      "metadata": {
        "id": "WhsGj8uuCNy8"
      },
      "source": [
        "show_recommendations(\"water\")"
      ],
      "execution_count": null,
      "outputs": []
    }
  ]
}